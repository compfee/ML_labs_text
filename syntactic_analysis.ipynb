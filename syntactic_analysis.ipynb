{
  "cells": [
    {
      "cell_type": "markdown",
      "source": [
        "Выполните синтаксический разбор следующих предложений при помощи UDpipe моделей SynTagRus и Taiga. Постройте дерево разбора, вычислите метрики UAS и LAS, а также определите глубину полученных деревьев."
      ],
      "metadata": {
        "id": "Ma3RUgvmxUVU"
      }
    },
    {
      "cell_type": "markdown",
      "metadata": {
        "id": "885nCnaEi6Zq"
      },
      "source": [
        "В этом задании мы рассмотрим работу UDpipe с двумя моделями:\n",
        "\n",
        "* предварительно обученной на SynTagRus [link](https://universaldependencies.org/treebanks/ru_syntagrus/index.html)\n",
        "* обученной на Taiga [link](https://universaldependencies.org/treebanks/ru_taiga/index.html)"
      ]
    },
    {
      "cell_type": "markdown",
      "metadata": {
        "id": "Xi3sqi2ni6Zw"
      },
      "source": [
        "## Подключение необходимых модулей"
      ]
    },
    {
      "cell_type": "code",
      "execution_count": null,
      "metadata": {
        "colab": {
          "base_uri": "https://localhost:8080/"
        },
        "id": "pFELL0b6i6Zz",
        "outputId": "483d248a-1011-4c33-a729-03871b257138"
      },
      "outputs": [
        {
          "output_type": "stream",
          "name": "stdout",
          "text": [
            "\u001b[?25l     \u001b[90m━━━━━━━━━━━━━━━━━━━━━━━━━━━━━━━━━━━━━━━━\u001b[0m \u001b[32m0.0/937.0 kB\u001b[0m \u001b[31m?\u001b[0m eta \u001b[36m-:--:--\u001b[0m\r\u001b[2K     \u001b[90m━━━━━━━━━━━━━━━━━━━━━━━━━━━━━━━━━━━━━━\u001b[0m \u001b[32m937.0/937.0 kB\u001b[0m \u001b[31m30.1 MB/s\u001b[0m eta \u001b[36m0:00:00\u001b[0m\n",
            "\u001b[?25h"
          ]
        }
      ],
      "source": [
        "! pip install -q conllu\n",
        "! pip install -q graphviz\n",
        "! pip install -q ufal.udpipe"
      ]
    },
    {
      "cell_type": "markdown",
      "metadata": {
        "id": "-w82dt3Ki6aJ"
      },
      "source": [
        "## Загрузка моделей"
      ]
    },
    {
      "cell_type": "code",
      "execution_count": null,
      "metadata": {
        "id": "kDboaNgQi6aK"
      },
      "outputs": [],
      "source": [
        "!wget -q 'https://lindat.mff.cuni.cz/repository/xmlui/bitstream/handle/11234/1-3131/russian-syntagrus-ud-2.5-191206.udpipe'\n",
        "!wget -q 'https://lindat.mff.cuni.cz/repository/xmlui/bitstream/handle/11234/1-3131/russian-taiga-ud-2.5-191206.udpipe'"
      ]
    },
    {
      "cell_type": "markdown",
      "metadata": {
        "id": "05htpbLZi6as"
      },
      "source": [
        "На этом подготовка материалов завершена, переходим к написанию кода для синтаксического анализа"
      ]
    },
    {
      "cell_type": "markdown",
      "metadata": {
        "id": "4RfK9-zii6aw"
      },
      "source": [
        "## Подключение библиотек"
      ]
    },
    {
      "cell_type": "code",
      "execution_count": null,
      "metadata": {
        "id": "dmf7LI_0i6ax"
      },
      "outputs": [],
      "source": [
        "import sys\n",
        "\n",
        "from conllu import parse\n",
        "from graphviz import Digraph\n",
        "from ufal.udpipe import Model, Pipeline, ProcessingError"
      ]
    },
    {
      "cell_type": "markdown",
      "metadata": {
        "id": "ufl9Rvugi6a3"
      },
      "source": [
        "## Настройка работы с моделями"
      ]
    },
    {
      "cell_type": "code",
      "execution_count": null,
      "metadata": {
        "colab": {
          "base_uri": "https://localhost:8080/"
        },
        "id": "Rj7bbVu4i6a4",
        "outputId": "2e93f3aa-1ea6-4382-acf3-ae25e79106bc"
      },
      "outputs": [
        {
          "output_type": "stream",
          "name": "stdout",
          "text": [
            "Loading model:russian-syntagrus-ud-2.5-191206.udpipe\n",
            "Loading done\n",
            "Loading model:russian-taiga-ud-2.5-191206.udpipe\n",
            "Loading done\n"
          ]
        }
      ],
      "source": [
        "INPUT_FORMAT = \"tokenize\"\n",
        "OUTPUT_FORMAT = \"conllu\"\n",
        "SYNTAGRUS_MODEL_FILE = \"russian-syntagrus-ud-2.5-191206.udpipe\"\n",
        "TAIGA_MODEL_FILE = \"russian-taiga-ud-2.5-191206.udpipe\"\n",
        "\n",
        "print(\"Loading model:\" + SYNTAGRUS_MODEL_FILE)\n",
        "syntagrus_model = Model.load(SYNTAGRUS_MODEL_FILE)\n",
        "print(\"Loading done\")\n",
        "\n",
        "print(\"Loading model:\" + TAIGA_MODEL_FILE)\n",
        "taiga_model = Model.load(TAIGA_MODEL_FILE)\n",
        "print(\"Loading done\")"
      ]
    },
    {
      "cell_type": "markdown",
      "metadata": {
        "id": "eFV0w_Xmi6bA"
      },
      "source": [
        "## Построение цепочки обработки"
      ]
    },
    {
      "cell_type": "markdown",
      "metadata": {
        "id": "201ztaiki6bB"
      },
      "source": [
        "Строим цепочку обработки  -- от сырого текста до синтаксического дерева"
      ]
    },
    {
      "cell_type": "code",
      "execution_count": null,
      "metadata": {
        "id": "NQxfMF_3i6bC"
      },
      "outputs": [],
      "source": [
        "syntagrus_pipeline = Pipeline(syntagrus_model, INPUT_FORMAT,\n",
        "                              Pipeline.DEFAULT, Pipeline.DEFAULT, OUTPUT_FORMAT)\n",
        "taiga_pipeline = Pipeline(taiga_model, INPUT_FORMAT,\n",
        "                          Pipeline.DEFAULT, Pipeline.DEFAULT, OUTPUT_FORMAT)\n",
        "\n",
        "error = ProcessingError()"
      ]
    },
    {
      "cell_type": "markdown",
      "metadata": {
        "id": "4rmXlR1ei6bI"
      },
      "source": [
        "Применение собственно цепочки обработки к сырому тексту; вывод в формате CoNLL-U."
      ]
    },
    {
      "cell_type": "code",
      "execution_count": null,
      "metadata": {
        "id": "MJedzauNi6bJ"
      },
      "outputs": [],
      "source": [
        "def parse_syntax(raw_text, pipeline):\n",
        "    \"\"\" Applying UDPipe \"\"\"\n",
        "    text = raw_text.strip()\n",
        "\n",
        "    # Process data\n",
        "    processed = pipeline.process(text, error)\n",
        "\n",
        "    if error.occurred():\n",
        "        sys.stderr.write(\"An error occurred when running run_udpipe: \")\n",
        "        sys.stderr.write(error.message)\n",
        "        sys.stderr.write(\"\\n\")\n",
        "\n",
        "    return processed"
      ]
    },
    {
      "cell_type": "markdown",
      "metadata": {
        "id": "CHD7DOp3i6bP"
      },
      "source": [
        "Создадим два разбора, которые и будем сравнивать."
      ]
    },
    {
      "cell_type": "code",
      "execution_count": null,
      "metadata": {
        "id": "svFDIXCli6bS"
      },
      "outputs": [],
      "source": [
        "syntag = parse_syntax(\"— Назовите кого-нибудь , кто обладает таким успехом ! »\", syntagrus_pipeline)\n",
        "taiga = parse_syntax(\"— Назовите кого-нибудь , кто обладает таким успехом ! »\", taiga_pipeline)"
      ]
    },
    {
      "cell_type": "markdown",
      "metadata": {
        "id": "9JqN3OWvqbuV"
      },
      "source": [
        "Разбор предложения в текстовом виде будет выглядеть следующим образом:"
      ]
    },
    {
      "cell_type": "code",
      "execution_count": null,
      "metadata": {
        "colab": {
          "base_uri": "https://localhost:8080/"
        },
        "id": "IciMoyh0qbuW",
        "outputId": "38d8b1a2-49b2-46b3-a2bf-0554f71fa840"
      },
      "outputs": [
        {
          "output_type": "stream",
          "name": "stdout",
          "text": [
            "# newdoc\n",
            "# newpar\n",
            "# sent_id = 1\n",
            "# text = — Назовите кого-нибудь , кто обладает таким успехом ! »\n",
            "1\t—\t—\tPUNCT\t_\t_\t2\tpunct\t_\t_\n",
            "2\tНазовите\tНазовить\tVERB\t_\tDegree=Pos\t0\troot\t_\t_\n",
            "3\tкого-нибудь\tкого-нибудь\tNOUN\t_\t_\t2\tobj\t_\t_\n",
            "4\t,\t,\tPUNCT\t_\t_\t6\tpunct\t_\t_\n",
            "5\tкто\tкто\tPRON\t_\tAnimacy=Anim|Case=Nom|Gender=Masc|Number=Sing\t6\tnsubj\t_\t_\n",
            "6\tобладает\tобладавать\tVERB\t_\tAspect=Imp|Mood=Ind|Number=Sing|Person=3|Tense=Pres|VerbForm=Fin|Voice=Act\t2\tconj\t_\t_\n",
            "7\tтаким\tтакой\tDET\t_\tCase=Ins|Gender=Neut|Number=Sing\t8\tdet\t_\t_\n",
            "8\tуспехом\tуспех\tNOUN\t_\tAnimacy=Inan|Case=Ins|Gender=Neut|Number=Sing\t6\tobj\t_\t_\n",
            "9\t!\t!\tPUNCT\t_\t_\t2\tpunct\t_\t_\n",
            "10\t»\t»\tPUNCT\t_\t_\t2\tpunct\t_\tSpacesAfter=\\n\n",
            "\n",
            "\n"
          ]
        }
      ],
      "source": [
        "print(taiga)"
      ]
    },
    {
      "cell_type": "markdown",
      "metadata": {
        "id": "jYKnnwqVqbuZ"
      },
      "source": [
        "Понятно, что в таком виде производить расчеты не очень удобно. Для вычисления LAS и UAS сначала представим деревья разбора в виде графов."
      ]
    },
    {
      "cell_type": "markdown",
      "metadata": {
        "id": "LGkqQEi1qbua"
      },
      "source": [
        "## Графововое представление дерева разбора\n",
        "\n",
        "Методами библиотеки `conllu` превращаем выданный нам udpipe разбор в формате CoNLL-U в дерево, с которым удобно работать.\n",
        "\n",
        "С помощью стандартного обхода в ширину наполняем рёбрами объект Digraph для последующей визуализации дерева с помощью `graphviz`."
      ]
    },
    {
      "cell_type": "code",
      "execution_count": null,
      "metadata": {
        "id": "jQ6zzoRni6bo"
      },
      "outputs": [],
      "source": [
        "from conllu import parse\n",
        "from graphviz import Digraph\n",
        "\n",
        "def parse_output(conll):\n",
        "    \"\"\"\n",
        "        Preparing the dependency tree for further processing\n",
        "    \"\"\"\n",
        "    sentences = parse(conll)\n",
        "    return [s.to_tree() for s  in sentences]\n",
        "\n",
        "\n",
        "class Root(object):\n",
        "  def __init__(self, child):\n",
        "    self.token = {\"form\": \"\", \"id\": 0, \"deprel\": \"root\"}\n",
        "    self.children = [child]\n",
        "\n",
        "def draw_tree(tree):\n",
        "    \"\"\" Drawing a dependency tree for debugging stuff \"\"\"\n",
        "\n",
        "    g = Digraph(format='png')\n",
        "\n",
        "    # a queue for tree traversal\n",
        "    queue = [Root(tree)]\n",
        "\n",
        "    while len(queue) > 0:\n",
        "\n",
        "        head = queue.pop()\n",
        "        head_label = head.token[\"form\"] + \" (%d)\" % head.token[\"id\"]\n",
        "        queue.extend(head.children)\n",
        "\n",
        "        for c in head.children:\n",
        "            c_label = c.token[\"form\"] + \" (%d)\" %  c.token[\"id\"]\n",
        "            g.edge(head_label, c_label, label=c.token[\"deprel\"])\n",
        "\n",
        "    return g"
      ]
    },
    {
      "cell_type": "markdown",
      "metadata": {
        "id": "PGp5oQbUi6cQ"
      },
      "source": [
        "Построим оба дерева"
      ]
    },
    {
      "cell_type": "code",
      "execution_count": null,
      "metadata": {
        "id": "woGZyXqCqbuf"
      },
      "outputs": [],
      "source": [
        "str_tree = parse_output(syntag.strip())[0]\n",
        "taiga_tree = parse_output(taiga.strip())[0]"
      ]
    },
    {
      "cell_type": "code",
      "execution_count": null,
      "metadata": {
        "colab": {
          "base_uri": "https://localhost:8080/",
          "height": 660
        },
        "id": "ICivSE4eqbuh",
        "outputId": "d193101b-41d2-4307-b93d-166a3cb4d1e3"
      },
      "outputs": [
        {
          "output_type": "execute_result",
          "data": {
            "image/svg+xml": "<?xml version=\"1.0\" encoding=\"UTF-8\" standalone=\"no\"?>\n<!DOCTYPE svg PUBLIC \"-//W3C//DTD SVG 1.1//EN\"\n \"http://www.w3.org/Graphics/SVG/1.1/DTD/svg11.dtd\">\n<!-- Generated by graphviz version 2.43.0 (0)\n -->\n<!-- Title: %3 Pages: 1 -->\n<svg width=\"343pt\" height=\"479pt\"\n viewBox=\"0.00 0.00 343.50 479.00\" xmlns=\"http://www.w3.org/2000/svg\" xmlns:xlink=\"http://www.w3.org/1999/xlink\">\n<g id=\"graph0\" class=\"graph\" transform=\"scale(1 1) rotate(0) translate(4 475)\">\n<title>%3</title>\n<polygon fill=\"white\" stroke=\"transparent\" points=\"-4,4 -4,-475 339.5,-475 339.5,4 -4,4\"/>\n<!--  (0) -->\n<g id=\"node1\" class=\"node\">\n<title> (0)</title>\n<ellipse fill=\"none\" stroke=\"black\" cx=\"152.5\" cy=\"-453\" rx=\"27\" ry=\"18\"/>\n<text text-anchor=\"middle\" x=\"152.5\" y=\"-449.3\" font-family=\"Times,serif\" font-size=\"14.00\"> (0)</text>\n</g>\n<!-- Назовите (2) -->\n<g id=\"node2\" class=\"node\">\n<title>Назовите (2)</title>\n<ellipse fill=\"none\" stroke=\"black\" cx=\"152.5\" cy=\"-366\" rx=\"58.49\" ry=\"18\"/>\n<text text-anchor=\"middle\" x=\"152.5\" y=\"-362.3\" font-family=\"Times,serif\" font-size=\"14.00\">Назовите (2)</text>\n</g>\n<!--  (0)&#45;&gt;Назовите (2) -->\n<g id=\"edge1\" class=\"edge\">\n<title> (0)&#45;&gt;Назовите (2)</title>\n<path fill=\"none\" stroke=\"black\" d=\"M152.5,-434.8C152.5,-423.16 152.5,-407.55 152.5,-394.24\"/>\n<polygon fill=\"black\" stroke=\"black\" points=\"156,-394.18 152.5,-384.18 149,-394.18 156,-394.18\"/>\n<text text-anchor=\"middle\" x=\"163.5\" y=\"-405.8\" font-family=\"Times,serif\" font-size=\"14.00\">root</text>\n</g>\n<!-- — (1) -->\n<g id=\"node3\" class=\"node\">\n<title>— (1)</title>\n<ellipse fill=\"none\" stroke=\"black\" cx=\"32.5\" cy=\"-279\" rx=\"32.49\" ry=\"18\"/>\n<text text-anchor=\"middle\" x=\"32.5\" y=\"-275.3\" font-family=\"Times,serif\" font-size=\"14.00\">— (1)</text>\n</g>\n<!-- Назовите (2)&#45;&gt;— (1) -->\n<g id=\"edge2\" class=\"edge\">\n<title>Назовите (2)&#45;&gt;— (1)</title>\n<path fill=\"none\" stroke=\"black\" d=\"M130.21,-349.21C110.43,-335.2 81.46,-314.68 60.2,-299.62\"/>\n<polygon fill=\"black\" stroke=\"black\" points=\"62.08,-296.66 51.89,-293.74 58.03,-302.37 62.08,-296.66\"/>\n<text text-anchor=\"middle\" x=\"116\" y=\"-318.8\" font-family=\"Times,serif\" font-size=\"14.00\">punct</text>\n</g>\n<!-- кого&#45;нибудь (3) -->\n<g id=\"node4\" class=\"node\">\n<title>кого&#45;нибудь (3)</title>\n<ellipse fill=\"none\" stroke=\"black\" cx=\"152.5\" cy=\"-279\" rx=\"69.59\" ry=\"18\"/>\n<text text-anchor=\"middle\" x=\"152.5\" y=\"-275.3\" font-family=\"Times,serif\" font-size=\"14.00\">кого&#45;нибудь (3)</text>\n</g>\n<!-- Назовите (2)&#45;&gt;кого&#45;нибудь (3) -->\n<g id=\"edge3\" class=\"edge\">\n<title>Назовите (2)&#45;&gt;кого&#45;нибудь (3)</title>\n<path fill=\"none\" stroke=\"black\" d=\"M152.5,-347.8C152.5,-336.16 152.5,-320.55 152.5,-307.24\"/>\n<polygon fill=\"black\" stroke=\"black\" points=\"156,-307.18 152.5,-297.18 149,-307.18 156,-307.18\"/>\n<text text-anchor=\"middle\" x=\"161.5\" y=\"-318.8\" font-family=\"Times,serif\" font-size=\"14.00\">obj</text>\n</g>\n<!-- » (10) -->\n<g id=\"node5\" class=\"node\">\n<title>» (10)</title>\n<ellipse fill=\"none\" stroke=\"black\" cx=\"272.5\" cy=\"-279\" rx=\"32.49\" ry=\"18\"/>\n<text text-anchor=\"middle\" x=\"272.5\" y=\"-275.3\" font-family=\"Times,serif\" font-size=\"14.00\">» (10)</text>\n</g>\n<!-- Назовите (2)&#45;&gt;» (10) -->\n<g id=\"edge4\" class=\"edge\">\n<title>Назовите (2)&#45;&gt;» (10)</title>\n<path fill=\"none\" stroke=\"black\" d=\"M174.79,-349.21C194.56,-335.2 223.54,-314.68 244.8,-299.62\"/>\n<polygon fill=\"black\" stroke=\"black\" points=\"246.97,-302.37 253.1,-293.74 242.92,-296.66 246.97,-302.37\"/>\n<text text-anchor=\"middle\" x=\"236\" y=\"-318.8\" font-family=\"Times,serif\" font-size=\"14.00\">punct</text>\n</g>\n<!-- обладает (6) -->\n<g id=\"node6\" class=\"node\">\n<title>обладает (6)</title>\n<ellipse fill=\"none\" stroke=\"black\" cx=\"152.5\" cy=\"-192\" rx=\"56.59\" ry=\"18\"/>\n<text text-anchor=\"middle\" x=\"152.5\" y=\"-188.3\" font-family=\"Times,serif\" font-size=\"14.00\">обладает (6)</text>\n</g>\n<!-- кого&#45;нибудь (3)&#45;&gt;обладает (6) -->\n<g id=\"edge5\" class=\"edge\">\n<title>кого&#45;нибудь (3)&#45;&gt;обладает (6)</title>\n<path fill=\"none\" stroke=\"black\" d=\"M152.5,-260.8C152.5,-249.16 152.5,-233.55 152.5,-220.24\"/>\n<polygon fill=\"black\" stroke=\"black\" points=\"156,-220.18 152.5,-210.18 149,-220.18 156,-220.18\"/>\n<text text-anchor=\"middle\" x=\"174.5\" y=\"-231.8\" font-family=\"Times,serif\" font-size=\"14.00\">acl:relcl</text>\n</g>\n<!-- , (4) -->\n<g id=\"node7\" class=\"node\">\n<title>, (4)</title>\n<ellipse fill=\"none\" stroke=\"black\" cx=\"71.5\" cy=\"-105\" rx=\"27\" ry=\"18\"/>\n<text text-anchor=\"middle\" x=\"71.5\" y=\"-101.3\" font-family=\"Times,serif\" font-size=\"14.00\">, (4)</text>\n</g>\n<!-- обладает (6)&#45;&gt;, (4) -->\n<g id=\"edge6\" class=\"edge\">\n<title>обладает (6)&#45;&gt;, (4)</title>\n<path fill=\"none\" stroke=\"black\" d=\"M135.97,-174.76C130.09,-168.9 123.45,-162.2 117.5,-156 109,-147.14 99.8,-137.21 91.88,-128.55\"/>\n<polygon fill=\"black\" stroke=\"black\" points=\"94.35,-126.06 85.02,-121.03 89.17,-130.78 94.35,-126.06\"/>\n<text text-anchor=\"middle\" x=\"133\" y=\"-144.8\" font-family=\"Times,serif\" font-size=\"14.00\">punct</text>\n</g>\n<!-- кто (5) -->\n<g id=\"node8\" class=\"node\">\n<title>кто (5)</title>\n<ellipse fill=\"none\" stroke=\"black\" cx=\"152.5\" cy=\"-105\" rx=\"36.29\" ry=\"18\"/>\n<text text-anchor=\"middle\" x=\"152.5\" y=\"-101.3\" font-family=\"Times,serif\" font-size=\"14.00\">кто (5)</text>\n</g>\n<!-- обладает (6)&#45;&gt;кто (5) -->\n<g id=\"edge7\" class=\"edge\">\n<title>обладает (6)&#45;&gt;кто (5)</title>\n<path fill=\"none\" stroke=\"black\" d=\"M152.5,-173.8C152.5,-162.16 152.5,-146.55 152.5,-133.24\"/>\n<polygon fill=\"black\" stroke=\"black\" points=\"156,-133.18 152.5,-123.18 149,-133.18 156,-133.18\"/>\n<text text-anchor=\"middle\" x=\"167.5\" y=\"-144.8\" font-family=\"Times,serif\" font-size=\"14.00\">nsubj</text>\n</g>\n<!-- успехом (8) -->\n<g id=\"node9\" class=\"node\">\n<title>успехом (8)</title>\n<ellipse fill=\"none\" stroke=\"black\" cx=\"262.5\" cy=\"-105\" rx=\"55.49\" ry=\"18\"/>\n<text text-anchor=\"middle\" x=\"262.5\" y=\"-101.3\" font-family=\"Times,serif\" font-size=\"14.00\">успехом (8)</text>\n</g>\n<!-- обладает (6)&#45;&gt;успехом (8) -->\n<g id=\"edge8\" class=\"edge\">\n<title>обладает (6)&#45;&gt;успехом (8)</title>\n<path fill=\"none\" stroke=\"black\" d=\"M172.93,-175.21C190.03,-162 214.63,-142.99 233.73,-128.23\"/>\n<polygon fill=\"black\" stroke=\"black\" points=\"236.03,-130.88 241.8,-121.99 231.75,-125.34 236.03,-130.88\"/>\n<text text-anchor=\"middle\" x=\"223.5\" y=\"-144.8\" font-family=\"Times,serif\" font-size=\"14.00\">obl</text>\n</g>\n<!-- таким (7) -->\n<g id=\"node10\" class=\"node\">\n<title>таким (7)</title>\n<ellipse fill=\"none\" stroke=\"black\" cx=\"217.5\" cy=\"-18\" rx=\"46.29\" ry=\"18\"/>\n<text text-anchor=\"middle\" x=\"217.5\" y=\"-14.3\" font-family=\"Times,serif\" font-size=\"14.00\">таким (7)</text>\n</g>\n<!-- успехом (8)&#45;&gt;таким (7) -->\n<g id=\"edge9\" class=\"edge\">\n<title>успехом (8)&#45;&gt;таким (7)</title>\n<path fill=\"none\" stroke=\"black\" d=\"M253.61,-87.21C247.2,-75.1 238.43,-58.53 231.13,-44.76\"/>\n<polygon fill=\"black\" stroke=\"black\" points=\"234.14,-42.96 226.37,-35.76 227.95,-46.23 234.14,-42.96\"/>\n<text text-anchor=\"middle\" x=\"252\" y=\"-57.8\" font-family=\"Times,serif\" font-size=\"14.00\">det</text>\n</g>\n<!-- ! (9) -->\n<g id=\"node11\" class=\"node\">\n<title>! (9)</title>\n<ellipse fill=\"none\" stroke=\"black\" cx=\"308.5\" cy=\"-18\" rx=\"27\" ry=\"18\"/>\n<text text-anchor=\"middle\" x=\"308.5\" y=\"-14.3\" font-family=\"Times,serif\" font-size=\"14.00\">! (9)</text>\n</g>\n<!-- успехом (8)&#45;&gt;! (9) -->\n<g id=\"edge10\" class=\"edge\">\n<title>успехом (8)&#45;&gt;! (9)</title>\n<path fill=\"none\" stroke=\"black\" d=\"M271.59,-87.21C278.22,-74.94 287.34,-58.1 294.85,-44.22\"/>\n<polygon fill=\"black\" stroke=\"black\" points=\"298.06,-45.64 299.74,-35.18 291.9,-42.31 298.06,-45.64\"/>\n<text text-anchor=\"middle\" x=\"304\" y=\"-57.8\" font-family=\"Times,serif\" font-size=\"14.00\">punct</text>\n</g>\n</g>\n</svg>\n",
            "text/plain": [
              "<graphviz.graphs.Digraph at 0x7fcc04135ae0>"
            ]
          },
          "metadata": {},
          "execution_count": 31
        }
      ],
      "source": [
        "draw_tree(str_tree)"
      ]
    },
    {
      "cell_type": "code",
      "execution_count": null,
      "metadata": {
        "colab": {
          "base_uri": "https://localhost:8080/",
          "height": 544
        },
        "id": "a_8Oxw6Bqbuj",
        "outputId": "35ca5140-78b8-469f-db45-bd90bfd552ab"
      },
      "outputs": [
        {
          "output_type": "execute_result",
          "data": {
            "image/svg+xml": "<?xml version=\"1.0\" encoding=\"UTF-8\" standalone=\"no\"?>\n<!DOCTYPE svg PUBLIC \"-//W3C//DTD SVG 1.1//EN\"\n \"http://www.w3.org/Graphics/SVG/1.1/DTD/svg11.dtd\">\n<!-- Generated by graphviz version 2.43.0 (0)\n -->\n<!-- Title: %3 Pages: 1 -->\n<svg width=\"516pt\" height=\"392pt\"\n viewBox=\"0.00 0.00 515.99 392.00\" xmlns=\"http://www.w3.org/2000/svg\" xmlns:xlink=\"http://www.w3.org/1999/xlink\">\n<g id=\"graph0\" class=\"graph\" transform=\"scale(1 1) rotate(0) translate(4 388)\">\n<title>%3</title>\n<polygon fill=\"white\" stroke=\"transparent\" points=\"-4,4 -4,-388 511.99,-388 511.99,4 -4,4\"/>\n<!--  (0) -->\n<g id=\"node1\" class=\"node\">\n<title> (0)</title>\n<ellipse fill=\"none\" stroke=\"black\" cx=\"296.5\" cy=\"-366\" rx=\"27\" ry=\"18\"/>\n<text text-anchor=\"middle\" x=\"296.5\" y=\"-362.3\" font-family=\"Times,serif\" font-size=\"14.00\"> (0)</text>\n</g>\n<!-- Назовите (2) -->\n<g id=\"node2\" class=\"node\">\n<title>Назовите (2)</title>\n<ellipse fill=\"none\" stroke=\"black\" cx=\"296.5\" cy=\"-279\" rx=\"58.49\" ry=\"18\"/>\n<text text-anchor=\"middle\" x=\"296.5\" y=\"-275.3\" font-family=\"Times,serif\" font-size=\"14.00\">Назовите (2)</text>\n</g>\n<!--  (0)&#45;&gt;Назовите (2) -->\n<g id=\"edge1\" class=\"edge\">\n<title> (0)&#45;&gt;Назовите (2)</title>\n<path fill=\"none\" stroke=\"black\" d=\"M296.5,-347.8C296.5,-336.16 296.5,-320.55 296.5,-307.24\"/>\n<polygon fill=\"black\" stroke=\"black\" points=\"300,-307.18 296.5,-297.18 293,-307.18 300,-307.18\"/>\n<text text-anchor=\"middle\" x=\"307.5\" y=\"-318.8\" font-family=\"Times,serif\" font-size=\"14.00\">root</text>\n</g>\n<!-- — (1) -->\n<g id=\"node3\" class=\"node\">\n<title>— (1)</title>\n<ellipse fill=\"none\" stroke=\"black\" cx=\"32.5\" cy=\"-192\" rx=\"32.49\" ry=\"18\"/>\n<text text-anchor=\"middle\" x=\"32.5\" y=\"-188.3\" font-family=\"Times,serif\" font-size=\"14.00\">— (1)</text>\n</g>\n<!-- Назовите (2)&#45;&gt;— (1) -->\n<g id=\"edge2\" class=\"edge\">\n<title>Назовите (2)&#45;&gt;— (1)</title>\n<path fill=\"none\" stroke=\"black\" d=\"M254.17,-266.43C209.02,-253.77 135.59,-232.3 73.5,-210 71.38,-209.24 69.2,-208.43 67.02,-207.59\"/>\n<polygon fill=\"black\" stroke=\"black\" points=\"68.09,-204.25 57.5,-203.82 65.5,-210.76 68.09,-204.25\"/>\n<text text-anchor=\"middle\" x=\"187\" y=\"-231.8\" font-family=\"Times,serif\" font-size=\"14.00\">punct</text>\n</g>\n<!-- кого&#45;нибудь (3) -->\n<g id=\"node4\" class=\"node\">\n<title>кого&#45;нибудь (3)</title>\n<ellipse fill=\"none\" stroke=\"black\" cx=\"152.5\" cy=\"-192\" rx=\"69.59\" ry=\"18\"/>\n<text text-anchor=\"middle\" x=\"152.5\" y=\"-188.3\" font-family=\"Times,serif\" font-size=\"14.00\">кого&#45;нибудь (3)</text>\n</g>\n<!-- Назовите (2)&#45;&gt;кого&#45;нибудь (3) -->\n<g id=\"edge3\" class=\"edge\">\n<title>Назовите (2)&#45;&gt;кого&#45;нибудь (3)</title>\n<path fill=\"none\" stroke=\"black\" d=\"M270.75,-262.8C247.74,-249.22 213.8,-229.18 188.17,-214.06\"/>\n<polygon fill=\"black\" stroke=\"black\" points=\"189.88,-211 179.48,-208.93 186.32,-217.03 189.88,-211\"/>\n<text text-anchor=\"middle\" x=\"242.5\" y=\"-231.8\" font-family=\"Times,serif\" font-size=\"14.00\">obj</text>\n</g>\n<!-- обладает (6) -->\n<g id=\"node5\" class=\"node\">\n<title>обладает (6)</title>\n<ellipse fill=\"none\" stroke=\"black\" cx=\"296.5\" cy=\"-192\" rx=\"56.59\" ry=\"18\"/>\n<text text-anchor=\"middle\" x=\"296.5\" y=\"-188.3\" font-family=\"Times,serif\" font-size=\"14.00\">обладает (6)</text>\n</g>\n<!-- Назовите (2)&#45;&gt;обладает (6) -->\n<g id=\"edge4\" class=\"edge\">\n<title>Назовите (2)&#45;&gt;обладает (6)</title>\n<path fill=\"none\" stroke=\"black\" d=\"M296.5,-260.8C296.5,-249.16 296.5,-233.55 296.5,-220.24\"/>\n<polygon fill=\"black\" stroke=\"black\" points=\"300,-220.18 296.5,-210.18 293,-220.18 300,-220.18\"/>\n<text text-anchor=\"middle\" x=\"308.5\" y=\"-231.8\" font-family=\"Times,serif\" font-size=\"14.00\">conj</text>\n</g>\n<!-- ! (9) -->\n<g id=\"node6\" class=\"node\">\n<title>! (9)</title>\n<ellipse fill=\"none\" stroke=\"black\" cx=\"398.5\" cy=\"-192\" rx=\"27\" ry=\"18\"/>\n<text text-anchor=\"middle\" x=\"398.5\" y=\"-188.3\" font-family=\"Times,serif\" font-size=\"14.00\">! (9)</text>\n</g>\n<!-- Назовите (2)&#45;&gt;! (9) -->\n<g id=\"edge5\" class=\"edge\">\n<title>Назовите (2)&#45;&gt;! (9)</title>\n<path fill=\"none\" stroke=\"black\" d=\"M316.16,-261.61C332.83,-247.72 356.79,-227.76 374.57,-212.94\"/>\n<polygon fill=\"black\" stroke=\"black\" points=\"376.81,-215.63 382.25,-206.54 372.33,-210.25 376.81,-215.63\"/>\n<text text-anchor=\"middle\" x=\"370\" y=\"-231.8\" font-family=\"Times,serif\" font-size=\"14.00\">punct</text>\n</g>\n<!-- » (10) -->\n<g id=\"node7\" class=\"node\">\n<title>» (10)</title>\n<ellipse fill=\"none\" stroke=\"black\" cx=\"475.5\" cy=\"-192\" rx=\"32.49\" ry=\"18\"/>\n<text text-anchor=\"middle\" x=\"475.5\" y=\"-188.3\" font-family=\"Times,serif\" font-size=\"14.00\">» (10)</text>\n</g>\n<!-- Назовите (2)&#45;&gt;» (10) -->\n<g id=\"edge6\" class=\"edge\">\n<title>Назовите (2)&#45;&gt;» (10)</title>\n<path fill=\"none\" stroke=\"black\" d=\"M334.65,-265.26C351.7,-259.16 371.89,-251.36 389.5,-243 409.11,-233.69 430.2,-221.46 446.59,-211.43\"/>\n<polygon fill=\"black\" stroke=\"black\" points=\"448.51,-214.36 455.17,-206.12 444.82,-208.41 448.51,-214.36\"/>\n<text text-anchor=\"middle\" x=\"432\" y=\"-231.8\" font-family=\"Times,serif\" font-size=\"14.00\">punct</text>\n</g>\n<!-- , (4) -->\n<g id=\"node8\" class=\"node\">\n<title>, (4)</title>\n<ellipse fill=\"none\" stroke=\"black\" cx=\"215.5\" cy=\"-105\" rx=\"27\" ry=\"18\"/>\n<text text-anchor=\"middle\" x=\"215.5\" y=\"-101.3\" font-family=\"Times,serif\" font-size=\"14.00\">, (4)</text>\n</g>\n<!-- обладает (6)&#45;&gt;, (4) -->\n<g id=\"edge7\" class=\"edge\">\n<title>обладает (6)&#45;&gt;, (4)</title>\n<path fill=\"none\" stroke=\"black\" d=\"M279.97,-174.76C274.09,-168.9 267.45,-162.2 261.5,-156 253,-147.14 243.8,-137.21 235.88,-128.55\"/>\n<polygon fill=\"black\" stroke=\"black\" points=\"238.35,-126.06 229.02,-121.03 233.17,-130.78 238.35,-126.06\"/>\n<text text-anchor=\"middle\" x=\"277\" y=\"-144.8\" font-family=\"Times,serif\" font-size=\"14.00\">punct</text>\n</g>\n<!-- кто (5) -->\n<g id=\"node9\" class=\"node\">\n<title>кто (5)</title>\n<ellipse fill=\"none\" stroke=\"black\" cx=\"296.5\" cy=\"-105\" rx=\"36.29\" ry=\"18\"/>\n<text text-anchor=\"middle\" x=\"296.5\" y=\"-101.3\" font-family=\"Times,serif\" font-size=\"14.00\">кто (5)</text>\n</g>\n<!-- обладает (6)&#45;&gt;кто (5) -->\n<g id=\"edge8\" class=\"edge\">\n<title>обладает (6)&#45;&gt;кто (5)</title>\n<path fill=\"none\" stroke=\"black\" d=\"M296.5,-173.8C296.5,-162.16 296.5,-146.55 296.5,-133.24\"/>\n<polygon fill=\"black\" stroke=\"black\" points=\"300,-133.18 296.5,-123.18 293,-133.18 300,-133.18\"/>\n<text text-anchor=\"middle\" x=\"311.5\" y=\"-144.8\" font-family=\"Times,serif\" font-size=\"14.00\">nsubj</text>\n</g>\n<!-- успехом (8) -->\n<g id=\"node10\" class=\"node\">\n<title>успехом (8)</title>\n<ellipse fill=\"none\" stroke=\"black\" cx=\"406.5\" cy=\"-105\" rx=\"55.49\" ry=\"18\"/>\n<text text-anchor=\"middle\" x=\"406.5\" y=\"-101.3\" font-family=\"Times,serif\" font-size=\"14.00\">успехом (8)</text>\n</g>\n<!-- обладает (6)&#45;&gt;успехом (8) -->\n<g id=\"edge9\" class=\"edge\">\n<title>обладает (6)&#45;&gt;успехом (8)</title>\n<path fill=\"none\" stroke=\"black\" d=\"M316.93,-175.21C334.03,-162 358.63,-142.99 377.73,-128.23\"/>\n<polygon fill=\"black\" stroke=\"black\" points=\"380.03,-130.88 385.8,-121.99 375.75,-125.34 380.03,-130.88\"/>\n<text text-anchor=\"middle\" x=\"367.5\" y=\"-144.8\" font-family=\"Times,serif\" font-size=\"14.00\">obj</text>\n</g>\n<!-- таким (7) -->\n<g id=\"node11\" class=\"node\">\n<title>таким (7)</title>\n<ellipse fill=\"none\" stroke=\"black\" cx=\"406.5\" cy=\"-18\" rx=\"46.29\" ry=\"18\"/>\n<text text-anchor=\"middle\" x=\"406.5\" y=\"-14.3\" font-family=\"Times,serif\" font-size=\"14.00\">таким (7)</text>\n</g>\n<!-- успехом (8)&#45;&gt;таким (7) -->\n<g id=\"edge10\" class=\"edge\">\n<title>успехом (8)&#45;&gt;таким (7)</title>\n<path fill=\"none\" stroke=\"black\" d=\"M406.5,-86.8C406.5,-75.16 406.5,-59.55 406.5,-46.24\"/>\n<polygon fill=\"black\" stroke=\"black\" points=\"410,-46.18 406.5,-36.18 403,-46.18 410,-46.18\"/>\n<text text-anchor=\"middle\" x=\"415\" y=\"-57.8\" font-family=\"Times,serif\" font-size=\"14.00\">det</text>\n</g>\n</g>\n</svg>\n",
            "text/plain": [
              "<graphviz.graphs.Digraph at 0x7fcc04137580>"
            ]
          },
          "metadata": {},
          "execution_count": 32
        }
      ],
      "source": [
        "draw_tree(taiga_tree)"
      ]
    },
    {
      "cell_type": "markdown",
      "metadata": {
        "id": "jU8n4urmqbul"
      },
      "source": [
        "Теперь можно переходить к расчету метрик"
      ]
    },
    {
      "cell_type": "markdown",
      "metadata": {
        "id": "VI1qm9bGqbuo"
      },
      "source": [
        "## Вычисление LAS и UAS\n",
        "\n",
        "Для этого набираем множества всех рёбер с метками и без и смотрим на размеры пересечений."
      ]
    },
    {
      "cell_type": "code",
      "execution_count": null,
      "metadata": {
        "id": "fEetAmXx6wAM"
      },
      "outputs": [],
      "source": [
        "def edges_sets(tree):\n",
        "  \"\"\" Reading edges encoded as strings \"\"\"\n",
        "\n",
        "  edges_labeled = []\n",
        "  edges_unlabeled = []\n",
        "  queue = [Root(tree)]\n",
        "\n",
        "  while len(queue) > 0:\n",
        "    head = queue.pop()\n",
        "    head_label = head.token[\"form\"] + \" (%d)\" % head.token[\"id\"]\n",
        "    queue.extend(head.children)\n",
        "\n",
        "    for c in head.children:\n",
        "      c_label = c.token[\"form\"] + \" (%d)\" %  c.token[\"id\"]\n",
        "      edges_unlabeled.append((head_label, c_label))\n",
        "      edges_labeled.append((head_label, c_label, c.token[\"deprel\"]))\n",
        "\n",
        "  return set(edges_labeled), set(edges_unlabeled)"
      ]
    },
    {
      "cell_type": "code",
      "execution_count": null,
      "metadata": {
        "colab": {
          "base_uri": "https://localhost:8080/",
          "height": 36
        },
        "id": "SCT4HgK_i6cU",
        "outputId": "f8ea21c8-0732-4ba7-e284-ef0cbc1b1fb1"
      },
      "outputs": [
        {
          "output_type": "execute_result",
          "data": {
            "text/plain": [
              "'LAS: 0.7000 UAS: 0.8000'"
            ],
            "application/vnd.google.colaboratory.intrinsic+json": {
              "type": "string"
            }
          },
          "metadata": {},
          "execution_count": 34
        }
      ],
      "source": [
        "def accuracy(gold, pred):\n",
        "  gold_labeled, gold_unlabeled = edges_sets(gold)\n",
        "  pred_labeled, pred_unlabeled = edges_sets(pred)\n",
        "\n",
        "  return len(gold_labeled.intersection(pred_labeled)) / len(gold_labeled), \\\n",
        "          len(gold_unlabeled.intersection(pred_unlabeled)) / len(gold_unlabeled)\n",
        "\n",
        "LAS, UAS = accuracy(str_tree, taiga_tree)\n",
        "\"LAS: %.4f UAS: %.4f\" % (LAS, UAS)"
      ]
    },
    {
      "cell_type": "markdown",
      "metadata": {
        "id": "n08jVsZwu_5R"
      },
      "source": [
        "## Вычисление глубины дерева"
      ]
    },
    {
      "cell_type": "markdown",
      "metadata": {
        "id": "B9LoRI_Hu_5R"
      },
      "source": [
        "Вычислим глубину дерева, например, для разбора модели taiga (ребро root не учитывается).\n",
        "\n",
        "Для этого также можно использовать, например, обход в ширину."
      ]
    },
    {
      "cell_type": "code",
      "execution_count": null,
      "metadata": {
        "colab": {
          "base_uri": "https://localhost:8080/"
        },
        "id": "_WKDvvPxi6cX",
        "outputId": "242e55ec-d116-459c-840d-840538fd942b"
      },
      "outputs": [
        {
          "output_type": "stream",
          "name": "stdout",
          "text": [
            "Глубина дерева:  3\n"
          ]
        }
      ],
      "source": [
        "depth = 0\n",
        "queue = [(taiga_tree, depth)]\n",
        "\n",
        "while len(queue) > 0:\n",
        "    head, depth = queue.pop(0)\n",
        "    queue.extend([(c, depth + 1) for c in head.children])\n",
        "    #print(\"checking\", head.token[\"form\"])\n",
        "\n",
        "print(\"Глубина дерева: \", depth)"
      ]
    },
    {
      "cell_type": "code",
      "execution_count": null,
      "metadata": {
        "id": "45zc-ojN5uph",
        "colab": {
          "base_uri": "https://localhost:8080/"
        },
        "outputId": "f0ed1dda-17e8-4e0e-9d62-22ebbe29ca11"
      },
      "outputs": [
        {
          "output_type": "stream",
          "name": "stdout",
          "text": [
            "Глубина дерева:  4\n"
          ]
        }
      ],
      "source": [
        "depth = 0\n",
        "queue = [(str_tree, depth)]\n",
        "\n",
        "while len(queue) > 0:\n",
        "    head, depth = queue.pop(0)\n",
        "    queue.extend([(c, depth + 1) for c in head.children])\n",
        "    #print(\"checking\", head.token[\"form\"])\n",
        "\n",
        "print(\"Глубина дерева: \", depth)"
      ]
    },
    {
      "cell_type": "code",
      "source": [],
      "metadata": {
        "id": "EgOxu18r3sfb"
      },
      "execution_count": null,
      "outputs": []
    }
  ],
  "metadata": {
    "colab": {
      "provenance": [],
      "toc_visible": true
    },
    "kernelspec": {
      "display_name": "Python 3",
      "language": "python",
      "name": "python3"
    },
    "language_info": {
      "codemirror_mode": {
        "name": "ipython",
        "version": 3
      },
      "file_extension": ".py",
      "mimetype": "text/x-python",
      "name": "python",
      "nbconvert_exporter": "python",
      "pygments_lexer": "ipython3",
      "version": "3.7.6"
    }
  },
  "nbformat": 4,
  "nbformat_minor": 0
}