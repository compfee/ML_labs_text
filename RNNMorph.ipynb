{
  "nbformat": 4,
  "nbformat_minor": 0,
  "metadata": {
    "colab": {
      "provenance": []
    },
    "kernelspec": {
      "display_name": "Python 3",
      "language": "python",
      "name": "python3"
    },
    "language_info": {
      "codemirror_mode": {
        "name": "ipython",
        "version": 3
      },
      "file_extension": ".py",
      "mimetype": "text/x-python",
      "name": "python",
      "nbconvert_exporter": "python",
      "pygments_lexer": "ipython3",
      "version": "3.7.6"
    }
  },
  "cells": [
    {
      "cell_type": "markdown",
      "source": [
        "По ссылке находится произведение русской классики. Ваша задача -- применить RNNMorph, для анализа произведения."
      ],
      "metadata": {
        "id": "gG2L-NJeiq_2"
      }
    },
    {
      "cell_type": "code",
      "source": [
        "from google.colab import drive\n",
        "drive.mount('/content/drive')"
      ],
      "metadata": {
        "id": "XUbN8LdB6OtZ",
        "outputId": "0b977748-2072-48b9-ad98-c7aba88e92f1",
        "colab": {
          "base_uri": "https://localhost:8080/"
        }
      },
      "execution_count": null,
      "outputs": [
        {
          "output_type": "stream",
          "name": "stdout",
          "text": [
            "Mounted at /content/drive\n"
          ]
        }
      ]
    },
    {
      "cell_type": "code",
      "metadata": {
        "id": "64uxt-07IEec"
      },
      "source": [
        "DATA_URL = \"http://lib.ru/LITRA/PUSHKIN/dubrowskij.txt\""
      ],
      "execution_count": null,
      "outputs": []
    },
    {
      "cell_type": "code",
      "metadata": {
        "id": "H5Fr5swwYfz5"
      },
      "source": [
        "import warnings\n",
        "warnings.filterwarnings('ignore')\n",
        "!pip -q install rnnmorph"
      ],
      "execution_count": null,
      "outputs": []
    },
    {
      "cell_type": "code",
      "metadata": {
        "id": "24zMUhvi99AV"
      },
      "source": [
        "from rnnmorph.predictor import RNNMorphPredictor\n",
        "predictor = RNNMorphPredictor(language=\"ru\")"
      ],
      "execution_count": null,
      "outputs": []
    },
    {
      "cell_type": "code",
      "metadata": {
        "id": "0uW0fw_h-Pft"
      },
      "source": [
        "\n",
        "import urllib.request\n",
        "\n",
        "opener = urllib.request.URLopener({})\n",
        "resource = opener.open(DATA_URL)\n",
        "raw_text = resource.read().decode(resource.headers.get_content_charset()) #Текс с html тегами"
      ],
      "execution_count": null,
      "outputs": []
    },
    {
      "cell_type": "code",
      "metadata": {
        "colab": {
          "base_uri": "https://localhost:8080/",
          "height": 54
        },
        "id": "-hSPOjDo4sdh",
        "outputId": "62eb1101-de1f-4ced-d0c9-24e7ff083eff"
      },
      "source": [
        "raw_text[:200]"
      ],
      "execution_count": null,
      "outputs": [
        {
          "output_type": "execute_result",
          "data": {
            "text/plain": [
              "'<html><head><title>Александр Сергеевич Пушкин. Дубровский</title></head><body><pre><div align=right><form action=/LITRA/PUSHKIN/dubrowskij.txt><select name=format><OPTION VALUE=\"_Contents\">Содержание<'"
            ],
            "application/vnd.google.colaboratory.intrinsic+json": {
              "type": "string"
            }
          },
          "metadata": {},
          "execution_count": 12
        }
      ]
    },
    {
      "cell_type": "code",
      "metadata": {
        "id": "We4LkyUMPfuq"
      },
      "source": [
        "from bs4 import BeautifulSoup\n",
        "soup = BeautifulSoup(raw_text, features=\"html.parser\")\n",
        "\n",
        "# kill all script and style elements\n",
        "for script in soup([\"script\", \"style\"]):\n",
        "    script.extract()    # rip it out\n",
        "\n",
        "# get text\n",
        "cleaned_text = soup.get_text()"
      ],
      "execution_count": null,
      "outputs": []
    },
    {
      "cell_type": "code",
      "metadata": {
        "colab": {
          "base_uri": "https://localhost:8080/",
          "height": 54
        },
        "id": "lOD8PJnG4rbl",
        "outputId": "3ba859ec-3703-496c-dbb1-3d3189bd2f0f"
      },
      "source": [
        "cleaned_text[:200]"
      ],
      "execution_count": null,
      "outputs": [
        {
          "output_type": "execute_result",
          "data": {
            "text/plain": [
              "'Александр Сергеевич Пушкин. ДубровскийСодержаниеFine HTMLPrinted versiontxt(Word,КПК)Lib.ru html\\nАлександр Сергеевич Пушкин. Дубровский\\n\\n---------------------------------------------------------------'"
            ],
            "application/vnd.google.colaboratory.intrinsic+json": {
              "type": "string"
            }
          },
          "metadata": {},
          "execution_count": 14
        }
      ]
    },
    {
      "cell_type": "code",
      "metadata": {
        "colab": {
          "base_uri": "https://localhost:8080/",
          "height": 72
        },
        "id": "hRNu7jPvN6G_",
        "outputId": "6ff89dab-bdf3-4e24-9b3b-3721eeb20105"
      },
      "source": [
        "from nltk.tokenize import sent_tokenize, word_tokenize\n",
        "import nltk\n",
        "nltk.download('punkt')\n",
        "\n",
        "tokenized_sentences = [word_tokenize(sentence) for sentence in sent_tokenize(cleaned_text)]\n",
        "\"A total of %d 'sentences'\" % len(tokenized_sentences)"
      ],
      "execution_count": null,
      "outputs": [
        {
          "output_type": "stream",
          "name": "stderr",
          "text": [
            "[nltk_data] Downloading package punkt to /root/nltk_data...\n",
            "[nltk_data]   Unzipping tokenizers/punkt.zip.\n"
          ]
        },
        {
          "output_type": "execute_result",
          "data": {
            "text/plain": [
              "\"A total of 1426 'sentences'\""
            ],
            "application/vnd.google.colaboratory.intrinsic+json": {
              "type": "string"
            }
          },
          "metadata": {},
          "execution_count": 15
        }
      ]
    },
    {
      "cell_type": "markdown",
      "metadata": {
        "id": "xRU4KEBAIyYT"
      },
      "source": [
        "## Задание 1\n",
        "С помощью метода `str.isalpha` из стандартной библиотеки Python модифицируйте нижеследующий код так, чтобы в predictions остались только буквенные токены."
      ]
    },
    {
      "cell_type": "code",
      "metadata": {
        "colab": {
          "base_uri": "https://localhost:8080/"
        },
        "id": "4U5HH2CDPVUM",
        "outputId": "983d8160-fb8b-4aa0-de60-ab71aa8bb9de"
      },
      "source": [
        "from tqdm import tqdm\n",
        "predictions = [[pred.normal_form for pred in sent]\n",
        "               for sent in tqdm(predictor.predict_sentences(sentences=tokenized_sentences), \"sentences\") ]\n",
        "words = []\n",
        "for p in predictions:\n",
        "  words.append([word for word in p if word.isalpha()])\n",
        "words[-11:-10]\n",
        "\n"
      ],
      "execution_count": null,
      "outputs": [
        {
          "output_type": "stream",
          "name": "stdout",
          "text": [
            "23/23 [==============================] - 18s 752ms/step\n"
          ]
        },
        {
          "output_type": "stream",
          "name": "stderr",
          "text": [
            "sentences: 100%|██████████| 1426/1426 [00:00<00:00, 176022.76it/s]\n"
          ]
        },
        {
          "output_type": "execute_result",
          "data": {
            "text/plain": [
              "[['несколько',\n",
              "  'день',\n",
              "  'после',\n",
              "  'он',\n",
              "  'собрать',\n",
              "  'весь',\n",
              "  'свой',\n",
              "  'сообщник',\n",
              "  'объявить',\n",
              "  'он',\n",
              "  'что',\n",
              "  'намеренный',\n",
              "  'навсегда',\n",
              "  'он',\n",
              "  'оставить',\n",
              "  'советовать',\n",
              "  'и',\n",
              "  'он',\n",
              "  'переменить',\n",
              "  'образ',\n",
              "  'жизнь']]"
            ]
          },
          "metadata": {},
          "execution_count": 16
        }
      ]
    },
    {
      "cell_type": "code",
      "metadata": {
        "colab": {
          "base_uri": "https://localhost:8080/"
        },
        "id": "nwK_qRbw6sac",
        "outputId": "f39dcc48-d5f1-498f-ba0f-f996d51c2c40"
      },
      "source": [
        "len(words)"
      ],
      "execution_count": null,
      "outputs": [
        {
          "output_type": "execute_result",
          "data": {
            "text/plain": [
              "1426"
            ]
          },
          "metadata": {},
          "execution_count": 17
        }
      ]
    },
    {
      "cell_type": "code",
      "metadata": {
        "id": "J5jL4sWyKUnO",
        "colab": {
          "base_uri": "https://localhost:8080/"
        },
        "outputId": "ead0c2f5-a0d1-4419-e78c-3018429aff91"
      },
      "source": [
        "non_uniq_tokens = [word for sentence in words for word in sentence]\n",
        "len(non_uniq_tokens)\n"
      ],
      "execution_count": null,
      "outputs": [
        {
          "output_type": "execute_result",
          "data": {
            "text/plain": [
              "20410"
            ]
          },
          "metadata": {},
          "execution_count": 18
        }
      ]
    },
    {
      "cell_type": "markdown",
      "metadata": {
        "id": "Yg2e-1hAKiT3"
      },
      "source": [
        "Для продолжения работы над заданием числа должны быть близки к указанным"
      ]
    },
    {
      "cell_type": "markdown",
      "metadata": {
        "id": "Mci9Nd5hKuJP"
      },
      "source": [
        "## Задание 2\n",
        "\n",
        "Используя `non_uniq_tokens`, стоп-слова для русского языка из библиотеки nltk (`nltk.corpus.stopwords`) и `nltk.FreqDist`, вычислите, **какую долю среди 100 самых частотных** токенов в произведении занимают токены, **не относящиеся** к стоп словам.\n",
        "\n",
        "**Например**, если среди 100 самых частотных слов встречается 25 слов, входящих в стоп лист, значит не входят в стоп лист 75 слов, и их доля составит 0.75.\n",
        "\n",
        "**Не бойтесь использовать документацию NLTK и тьюториалы.**"
      ]
    },
    {
      "cell_type": "code",
      "metadata": {
        "colab": {
          "base_uri": "https://localhost:8080/"
        },
        "id": "gHbtLqkLKfZC",
        "outputId": "60bbc06c-cf0a-48d3-f19c-17bc75ca937f"
      },
      "source": [
        "import nltk\n",
        "from nltk import FreqDist\n",
        "from nltk.corpus import stopwords\n",
        "nltk.download(\"stopwords\")\n",
        "STOPWORDS = set(stopwords.words(\"russian\"))\n",
        "stopwords.words(\"russian\")[:5] #Пример стоп слов"
      ],
      "execution_count": null,
      "outputs": [
        {
          "output_type": "stream",
          "name": "stderr",
          "text": [
            "[nltk_data] Downloading package stopwords to /root/nltk_data...\n",
            "[nltk_data]   Unzipping corpora/stopwords.zip.\n"
          ]
        },
        {
          "output_type": "execute_result",
          "data": {
            "text/plain": [
              "['и', 'в', 'во', 'не', 'что']"
            ]
          },
          "metadata": {},
          "execution_count": 19
        }
      ]
    },
    {
      "cell_type": "code",
      "source": [
        "allWords = []\n",
        "for wordList in words:\n",
        "    allWords += wordList"
      ],
      "metadata": {
        "id": "2ocfReLBEgWi"
      },
      "execution_count": null,
      "outputs": []
    },
    {
      "cell_type": "code",
      "source": [
        "allWords[:10]"
      ],
      "metadata": {
        "colab": {
          "base_uri": "https://localhost:8080/"
        },
        "id": "VAp1HzpbG5ba",
        "outputId": "85fb32dc-110b-4788-82a2-70ff93e061d3"
      },
      "execution_count": null,
      "outputs": [
        {
          "output_type": "execute_result",
          "data": {
            "text/plain": [
              "['александр',\n",
              " 'сергеевич',\n",
              " 'пушкин',\n",
              " 'дубровскийсодержаниеfine',\n",
              " 'htmlprinted',\n",
              " 'versiontxt',\n",
              " 'word',\n",
              " 'кпк',\n",
              " 'html',\n",
              " 'александр']"
            ]
          },
          "metadata": {},
          "execution_count": 21
        }
      ]
    },
    {
      "cell_type": "code",
      "source": [
        "from nltk.probability import FreqDist\n",
        "fdist = FreqDist(allWords)\n",
        "i = 0\n",
        "for t in fdist.most_common(40):\n",
        "  if t[0] in  stopwords.words():\n",
        "    i+=1\n",
        "1-i/40\n",
        "# tokens_without_sw = [word for word in fdist.most_common(100) if word in stopwords.words()]\n",
        "# fdist1 = FreqDist(tokens_without_sw)"
      ],
      "metadata": {
        "colab": {
          "base_uri": "https://localhost:8080/"
        },
        "id": "yElC2Mz8EWU_",
        "outputId": "ad0d3f07-c70b-4df0-f1e1-797979ce2fc2"
      },
      "execution_count": null,
      "outputs": [
        {
          "output_type": "execute_result",
          "data": {
            "text/plain": [
              "0.275"
            ]
          },
          "metadata": {},
          "execution_count": 23
        }
      ]
    },
    {
      "cell_type": "markdown",
      "metadata": {
        "id": "HChyAdk2Ovx1"
      },
      "source": [
        "## Задание 3\n",
        "Вычислите, сколько токенов встречается в тексте **строго больше** 50 раз."
      ]
    },
    {
      "cell_type": "code",
      "source": [
        "fdist.most_common(132)"
      ],
      "metadata": {
        "colab": {
          "base_uri": "https://localhost:8080/"
        },
        "id": "D6BnvvLwKUeo",
        "outputId": "587c617a-a4ed-4316-cf0c-3a697df0c859"
      },
      "execution_count": null,
      "outputs": [
        {
          "output_type": "execute_result",
          "data": {
            "text/plain": [
              "[('он', 1260),\n",
              " ('и', 895),\n",
              " ('в', 578),\n",
              " ('не', 437),\n",
              " ('на', 286),\n",
              " ('быть', 282),\n",
              " ('с', 260),\n",
              " ('что', 233),\n",
              " ('я', 227),\n",
              " ('дубровский', 171),\n",
              " ('кирил', 166),\n",
              " ('петрович', 164),\n",
              " ('свой', 154),\n",
              " ('к', 140),\n",
              " ('а', 130),\n",
              " ('по', 128),\n",
              " ('за', 123),\n",
              " ('ты', 118),\n",
              " ('вы', 117),\n",
              " ('сказать', 109),\n",
              " ('но', 108),\n",
              " ('из', 103),\n",
              " ('весь', 97),\n",
              " ('у', 93),\n",
              " ('как', 83),\n",
              " ('от', 82),\n",
              " ('о', 82),\n",
              " ('тот', 81),\n",
              " ('отвечать', 69),\n",
              " ('да', 68),\n",
              " ('же', 66),\n",
              " ('мы', 66),\n",
              " ('сей', 65),\n",
              " ('то', 58),\n",
              " ('себя', 57),\n",
              " ('владимир', 57),\n",
              " ('мой', 56),\n",
              " ('один', 55),\n",
              " ('человек', 55),\n",
              " ('мочь', 54),\n",
              " ('отец', 54),\n",
              " ('день', 52),\n",
              " ('ни', 52),\n",
              " ('который', 52),\n",
              " ('ваш', 51),\n",
              " ('кирилович', 50),\n",
              " ('со', 47),\n",
              " ('до', 46),\n",
              " ('дом', 44),\n",
              " ('знать', 44),\n",
              " ('ли', 44),\n",
              " ('князь', 44),\n",
              " ('год', 43),\n",
              " ('имение', 43),\n",
              " ('сам', 43),\n",
              " ('антон', 43),\n",
              " ('так', 42),\n",
              " ('уже', 42),\n",
              " ('марья', 42),\n",
              " ('стать', 41),\n",
              " ('этот', 41),\n",
              " ('гость', 40),\n",
              " ('другой', 40),\n",
              " ('всь', 40),\n",
              " ('исправник', 40),\n",
              " ('троекур', 39),\n",
              " ('двор', 39),\n",
              " ('дело', 39),\n",
              " ('или', 38),\n",
              " ('троекуров', 38),\n",
              " ('между', 38),\n",
              " ('рука', 38),\n",
              " ('несколько', 37),\n",
              " ('время', 37),\n",
              " ('для', 36),\n",
              " ('где', 35),\n",
              " ('пойти', 35),\n",
              " ('маш', 34),\n",
              " ('это', 34),\n",
              " ('француз', 34),\n",
              " ('слово', 32),\n",
              " ('андрей', 31),\n",
              " ('комната', 31),\n",
              " ('только', 30),\n",
              " ('молодой', 30),\n",
              " ('бог', 30),\n",
              " ('хотеть', 30),\n",
              " ('минута', 30),\n",
              " ('кой', 29),\n",
              " ('бы', 29),\n",
              " ('кто', 29),\n",
              " ('разбойник', 29),\n",
              " ('нет', 28),\n",
              " ('ещё', 28),\n",
              " ('голос', 28),\n",
              " ('час', 27),\n",
              " ('голова', 27),\n",
              " ('без', 27),\n",
              " ('пафнутьич', 27),\n",
              " ('при', 26),\n",
              " ('дверь', 26),\n",
              " ('слуга', 26),\n",
              " ('учитель', 26),\n",
              " ('барин', 25),\n",
              " ('спросить', 25),\n",
              " ('смотреть', 24),\n",
              " ('под', 24),\n",
              " ('место', 24),\n",
              " ('около', 24),\n",
              " ('такой', 24),\n",
              " ('письмо', 24),\n",
              " ('суд', 24),\n",
              " ('наконец', 24),\n",
              " ('никто', 23),\n",
              " ('владение', 23),\n",
              " ('гаврилович', 23),\n",
              " ('если', 23),\n",
              " ('увидеть', 23),\n",
              " ('лошадь', 23),\n",
              " ('бедный', 22),\n",
              " ('после', 22),\n",
              " ('дать', 22),\n",
              " ('ничто', 22),\n",
              " ('наш', 22),\n",
              " ('батюшка', 22),\n",
              " ('глава', 21),\n",
              " ('старый', 21),\n",
              " ('оный', 21),\n",
              " ('выйти', 21),\n",
              " ('вдруг', 21),\n",
              " ('кольцо', 21),\n",
              " ('два', 20)]"
            ]
          },
          "metadata": {},
          "execution_count": 32
        }
      ]
    }
  ]
}