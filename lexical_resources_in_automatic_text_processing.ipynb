{
  "cells": [
    {
      "cell_type": "markdown",
      "source": [
        "По ссылке представлена выборка из датасета WordSim353. Ваша задача, используя тезаурус WordNet, вычислить оценки близости для всех элементов соответствующих синсетов представленных пар слов. В качестве близости двух слов использовать наибольшую близость среди соответствующих элементов рассматриваемых синсетов. В качестве меры близости использовать: близость на основе пути (path_similarity), меру Leacock-Chodorow (lch_similarity) и меру Wu-Palmer (wup_similarity). Вычислить коэффициент ранговой корреляции Спирмена для каждой меры близости, используя известную экспертную оценку (колонка Score в выборке)."
      ],
      "metadata": {
        "id": "ZEyrM2Rnnycf"
      }
    },
    {
      "cell_type": "markdown",
      "metadata": {
        "id": "yLYpSPDlW9LC"
      },
      "source": [
        "## Скачиваем необходимое\n",
        "\n",
        "Сначала нужно средствами NLTK загрузить WordNet.\n",
        "\n"
      ]
    },
    {
      "cell_type": "code",
      "execution_count": null,
      "metadata": {
        "colab": {
          "base_uri": "https://localhost:8080/"
        },
        "id": "YhTQ6EFXZ5R9",
        "outputId": "94b1c1e6-137f-40f7-ea2a-7ff0a26430fd"
      },
      "outputs": [
        {
          "output_type": "stream",
          "name": "stderr",
          "text": [
            "[nltk_data] Downloading package wordnet to /root/nltk_data...\n"
          ]
        },
        {
          "output_type": "execute_result",
          "data": {
            "text/plain": [
              "True"
            ]
          },
          "metadata": {},
          "execution_count": 1
        }
      ],
      "source": [
        "import nltk\n",
        "from nltk.corpus import wordnet as wn\n",
        "nltk.download('wordnet')"
      ]
    },
    {
      "cell_type": "markdown",
      "metadata": {
        "id": "EIQ4rEytvwLZ"
      },
      "source": [
        "## Готовим данные к работе\n",
        "\n",
        "Затем импортируем данные из подготовленного текстового файла. Файл содержит набор пар слов (только имён существительных), для которых известны экспертные оценки сходства.\n",
        "\n",
        "Строим ассоциативный массив \"пара слов -- оценка близости\"."
      ]
    },
    {
      "cell_type": "code",
      "source": [
        "import pandas as pd"
      ],
      "metadata": {
        "id": "lAFFZG7PEKW9"
      },
      "execution_count": null,
      "outputs": []
    },
    {
      "cell_type": "code",
      "execution_count": null,
      "metadata": {
        "id": "_sTFACx3dAk8"
      },
      "outputs": [],
      "source": [
        "triples = pd.read_csv('Task_4_sample_13.csv').values.tolist()"
      ]
    },
    {
      "cell_type": "code",
      "source": [
        "for triple in triples:\n",
        "  score_map = {tuple(triple[:2]): float(triple[2]) for triple in triples}\n"
      ],
      "metadata": {
        "id": "_Mi4Tzj_EZPc"
      },
      "execution_count": null,
      "outputs": []
    },
    {
      "cell_type": "code",
      "source": [
        "score_map"
      ],
      "metadata": {
        "colab": {
          "base_uri": "https://localhost:8080/"
        },
        "id": "ETg2OTyfDylh",
        "outputId": "79aa3410-ad87-4bec-c29f-ba78951cd493"
      },
      "execution_count": null,
      "outputs": [
        {
          "output_type": "execute_result",
          "data": {
            "text/plain": [
              "{('bird', 'cock'): 7.1,\n",
              " ('start', 'year'): 4.06,\n",
              " ('vodka', 'brandy'): 8.13,\n",
              " ('bread', 'butter'): 6.19,\n",
              " ('cup', 'article'): 2.4,\n",
              " ('street', 'place'): 6.44,\n",
              " ('stock', 'phone'): 1.62,\n",
              " ('street', 'children'): 4.94,\n",
              " ('direction', 'combination'): 2.25,\n",
              " ('cemetery', 'woodland'): 2.08,\n",
              " ('dollar', 'yen'): 7.78,\n",
              " ('Harvard', 'Yale'): 8.13,\n",
              " ('month', 'hotel'): 1.81,\n",
              " ('delay', 'news'): 3.31,\n",
              " ('announcement', 'production'): 3.38,\n",
              " ('plane', 'car'): 5.77,\n",
              " ('mile', 'kilometer'): 8.66,\n",
              " ('championship', 'tournament'): 8.36,\n",
              " ('space', 'chemistry'): 4.88,\n",
              " ('minority', 'peace'): 3.69,\n",
              " ('food', 'fruit'): 7.52,\n",
              " ('coast', 'shore'): 9.1,\n",
              " ('precedent', 'collection'): 2.5,\n",
              " ('rooster', 'voyage'): 0.62,\n",
              " ('monk', 'oracle'): 5.0,\n",
              " ('cup', 'entity'): 2.15,\n",
              " ('midday', 'noon'): 9.29,\n",
              " ('school', 'center'): 3.44,\n",
              " ('street', 'block'): 6.88,\n",
              " ('asylum', 'madhouse'): 8.87,\n",
              " ('opera', 'performance'): 6.88,\n",
              " ('seafood', 'lobster'): 8.7,\n",
              " ('board', 'recommendation'): 4.47,\n",
              " ('precedent', 'example'): 5.85,\n",
              " ('skin', 'eye'): 6.22,\n",
              " ('lobster', 'wine'): 5.7,\n",
              " ('museum', 'theater'): 7.19,\n",
              " ('tiger', 'cat'): 7.35,\n",
              " ('atmosphere', 'landscape'): 3.69,\n",
              " ('reason', 'hypertension'): 2.31,\n",
              " ('crane', 'implement'): 2.69,\n",
              " ('deployment', 'departure'): 4.25,\n",
              " ('chord', 'smile'): 0.54,\n",
              " ('train', 'car'): 6.31,\n",
              " ('line', 'insurance'): 2.69,\n",
              " ('travel', 'activity'): 5.0,\n",
              " ('doctor', 'personnel'): 5.0,\n",
              " ('journal', 'association'): 4.97,\n",
              " ('practice', 'institution'): 3.19,\n",
              " ('stock', 'egg'): 1.81,\n",
              " ('life', 'term'): 4.5,\n",
              " ('glass', 'metal'): 5.56,\n",
              " ('Mexico', 'Brazil'): 7.44,\n",
              " ('governor', 'interview'): 3.25,\n",
              " ('money', 'currency'): 9.04,\n",
              " ('football', 'tennis'): 6.63,\n",
              " ('peace', 'atmosphere'): 3.69,\n",
              " ('smart', 'student'): 4.62,\n",
              " ('cup', 'substance'): 1.92,\n",
              " ('life', 'death'): 7.88,\n",
              " ('president', 'medal'): 3.0,\n",
              " ('coast', 'forest'): 3.15,\n",
              " ('prejudice', 'recognition'): 3.0,\n",
              " ('money', 'cash'): 9.15,\n",
              " ('viewer', 'serial'): 2.97,\n",
              " ('precedent', 'group'): 1.77,\n",
              " ('doctor', 'nurse'): 7.0,\n",
              " ('focus', 'life'): 4.06,\n",
              " ('precedent', 'antecedent'): 6.04,\n",
              " ('liquid', 'water'): 7.89,\n",
              " ('music', 'project'): 3.63,\n",
              " ('type', 'kind'): 8.97,\n",
              " ('professor', 'cucumber'): 0.31,\n",
              " ('word', 'similarity'): 4.75,\n",
              " ('sugar', 'approach'): 0.88,\n",
              " ('announcement', 'news'): 7.56,\n",
              " ('vodka', 'gin'): 8.46,\n",
              " ('marathon', 'sprint'): 7.47,\n",
              " ('architecture', 'century'): 3.78,\n",
              " ('five', 'month'): 3.38,\n",
              " ('production', 'hike'): 1.75,\n",
              " ('car', 'automobile'): 8.94,\n",
              " ('king', 'cabbage'): 0.23,\n",
              " ('energy', 'secretary'): 1.81,\n",
              " ('football', 'basketball'): 6.81,\n",
              " ('ministry', 'culture'): 4.69,\n",
              " ('theater', 'history'): 3.91,\n",
              " ('noon', 'string'): 0.54,\n",
              " ('seafood', 'food'): 8.34,\n",
              " ('start', 'match'): 4.47,\n",
              " ('monk', 'slave'): 0.92,\n",
              " ('image', 'surface'): 4.56,\n",
              " ('dividend', 'payment'): 7.63,\n",
              " ('drink', 'ear'): 1.31,\n",
              " ('peace', 'plan'): 4.75,\n",
              " ('computer', 'news'): 4.47,\n",
              " ('cup', 'object'): 3.69,\n",
              " ('listing', 'proximity'): 2.56,\n",
              " ('stock', 'CD'): 1.31,\n",
              " ('food', 'rooster'): 4.42,\n",
              " ('football', 'soccer'): 9.03,\n",
              " ('forest', 'graveyard'): 1.85,\n",
              " ('money', 'operation'): 3.31,\n",
              " ('dollar', 'buck'): 9.22,\n",
              " ('psychology', 'discipline'): 5.58,\n",
              " ('man', 'governor'): 5.25,\n",
              " ('wood', 'forest'): 7.73,\n",
              " ('benchmark', 'index'): 4.25,\n",
              " ('street', 'avenue'): 8.88,\n",
              " ('planet', 'sun'): 8.02,\n",
              " ('media', 'gain'): 2.88,\n",
              " ('consumer', 'energy'): 4.75,\n",
              " ('drink', 'mother'): 2.65,\n",
              " ('morality', 'importance'): 3.31,\n",
              " ('planet', 'moon'): 8.08,\n",
              " ('Japanese', 'American'): 6.5,\n",
              " ('morality', 'marriage'): 3.69,\n",
              " ('aluminum', 'metal'): 7.83,\n",
              " ('tiger', 'organism'): 4.77,\n",
              " ('king', 'queen'): 8.58,\n",
              " ('television', 'radio'): 6.77,\n",
              " ('opera', 'industry'): 2.63,\n",
              " ('problem', 'airport'): 2.38,\n",
              " ('profit', 'warning'): 3.88,\n",
              " ('rock', 'jazz'): 7.59,\n",
              " ('cucumber', 'potato'): 5.92,\n",
              " ('cup', 'food'): 5.0,\n",
              " ('calculation', 'computation'): 8.44,\n",
              " ('experience', 'music'): 3.47,\n",
              " ('furnace', 'stove'): 8.79,\n",
              " ('jaguar', 'cat'): 7.42,\n",
              " ('drink', 'car'): 3.04,\n",
              " ('king', 'rook'): 5.92,\n",
              " ('profit', 'loss'): 7.63,\n",
              " ('hospital', 'infrastructure'): 4.63,\n",
              " ('cell', 'phone'): 7.81,\n",
              " ('stock', 'jaguar'): 0.92,\n",
              " ('smart', 'stupid'): 5.81,\n",
              " ('lad', 'brother'): 4.46,\n",
              " ('shore', 'woodland'): 3.08,\n",
              " ('murder', 'manslaughter'): 8.53,\n",
              " ('tiger', 'tiger'): 10.0,\n",
              " ('phone', 'equipment'): 7.13,\n",
              " ('situation', 'isolation'): 3.88,\n",
              " ('media', 'trading'): 3.88,\n",
              " ('development', 'issue'): 3.97,\n",
              " ('tiger', 'mammal'): 6.85,\n",
              " ('century', 'year'): 7.59,\n",
              " ('situation', 'conclusion'): 4.81,\n",
              " ('Mars', 'water'): 2.94}"
            ]
          },
          "metadata": {},
          "execution_count": 5
        }
      ]
    },
    {
      "cell_type": "markdown",
      "metadata": {
        "id": "VmWA6cm7_8aJ"
      },
      "source": [
        "Отметим, что из исходного набора данных мы взяли только экспертные оценки сходства (similarity) и только для существительных. Исходный набор данных доступен по [ссылке](http://alfonseca.org/pubs/ws353simrel.tar.gz)"
      ]
    },
    {
      "cell_type": "markdown",
      "metadata": {
        "id": "96B0OtKrvtaG"
      },
      "source": [
        "Посмотрим на примеры оценок.\n",
        "\n",
        "У слов может быть по несколько значений, которые различаются в WordNet. Здесь -- ради примера -- мы будем \"жадно\" выбирать первое попавшееся, но далее будем работать с ними иначе.\n",
        "\n",
        "\n"
      ]
    },
    {
      "cell_type": "code",
      "execution_count": null,
      "metadata": {
        "colab": {
          "base_uri": "https://localhost:8080/"
        },
        "id": "7iXamIiZgf-O",
        "outputId": "be68e290-f17c-4603-895d-b7bc76d45b9b"
      },
      "outputs": [
        {
          "output_type": "stream",
          "name": "stdout",
          "text": [
            "\n",
            "Words: bird-cock\n",
            "Ground truth score: 7.10\n",
            "\n",
            "Path: 0.062 \n",
            "wup: 0.211 \n",
            "shortest_path: 15.000\n",
            "\n",
            "Words: start-year\n",
            "Ground truth score: 4.06\n",
            "\n",
            "Path: 0.100 \n",
            "wup: 0.308 \n",
            "shortest_path: 9.000\n"
          ]
        }
      ],
      "source": [
        "for w1, w2 in list(score_map)[:2]:\n",
        "\n",
        "  print(\"\\nWords: %s-%s\\nGround truth score: %.2f\" % (w1, w2, score_map[(w1, w2)]))\n",
        "\n",
        "  ss1 = wn.synset(w1 + \".n.01\")\n",
        "  ss2 = wn.synset(w2 + \".n.01\")\n",
        "\n",
        "  print(\"\\nPath: %.3f\" % ss1.path_similarity(ss2), end=\" \")\n",
        "  print(\"\\nwup: %.3f\" % ss1.wup_similarity(ss2), end=\" \")\n",
        "  print(\"\\nshortest_path: %.3f\" % ss1.shortest_path_distance(ss2))"
      ]
    },
    {
      "cell_type": "markdown",
      "metadata": {
        "id": "ZHM7tCb0vqNp"
      },
      "source": [
        "Вычисляем для всех пар несколько оценок"
      ]
    },
    {
      "cell_type": "code",
      "execution_count": null,
      "metadata": {
        "id": "fe7Nuglqgnd3"
      },
      "outputs": [],
      "source": [
        "from itertools import product\n",
        "\n",
        "list_pairs = list(score_map)\n",
        "wup_list, true_list, path_list, lch_list = [], [], [], []\n",
        "\n",
        "# для всех пар\n",
        "for w1, w2 in list_pairs:\n",
        "\n",
        "  try:\n",
        "    all_w1 = wn.synsets(w1, pos=\"n\")\n",
        "    all_w2 = wn.synsets(w2, pos=\"n\")\n",
        "\n",
        "    # добавляем интересующие нас метрики и экспертные оценки\n",
        "    wup = max([item1.wup_similarity(item2) \\\n",
        "                for item1, item2 in product(all_w1, all_w2)])\n",
        "    wup_list.append(wup)\n",
        "\n",
        "    path = max([item1.path_similarity(item2) \\\n",
        "                for item1, item2 in product(all_w1, all_w2)])\n",
        "    path_list.append(path)\n",
        "\n",
        "    lch = max([item1.lch_similarity(item2) \\\n",
        "                for item1, item2 in product(all_w1, all_w2)])\n",
        "    lch_list.append(lch)\n",
        "\n",
        "    true_list.append(score_map[(w1, w2)])\n",
        "\n",
        "  except Exception as e:\n",
        "    print(w1, w2, \"error:\", e)"
      ]
    },
    {
      "cell_type": "markdown",
      "metadata": {
        "id": "oAjuTLB0fD-I"
      },
      "source": [
        "## Вычисляем ранговую корреляцию Спирмена"
      ]
    },
    {
      "cell_type": "code",
      "execution_count": null,
      "metadata": {
        "colab": {
          "base_uri": "https://localhost:8080/"
        },
        "id": "fXnCdw8wxcVd",
        "outputId": "ec6f6b9d-1fde-447e-ee3b-5d67badebc8b"
      },
      "outputs": [
        {
          "output_type": "stream",
          "name": "stdout",
          "text": [
            "wup  Spearman R: 0.6343\n",
            "path Spearman R: 0.6254\n",
            "lch  Spearman R: 0.6254\n"
          ]
        }
      ],
      "source": [
        "from scipy.stats import spearmanr\n",
        "\n",
        "coef, p = spearmanr(wup_list, true_list)\n",
        "print(\"wup  Spearman R: %.4f\" % coef)\n",
        "\n",
        "coef, p = spearmanr(path_list, true_list)\n",
        "print(\"path Spearman R: %.4f\" % coef)\n",
        "\n",
        "coef, p = spearmanr(lch_list, true_list)\n",
        "print(\"lch  Spearman R: %.4f\" % coef)\n"
      ]
    },
    {
      "cell_type": "code",
      "source": [
        "import nltk\n",
        "from nltk.corpus import wordnet as wn"
      ],
      "metadata": {
        "id": "gofwowcfHvEP"
      },
      "execution_count": null,
      "outputs": []
    },
    {
      "cell_type": "code",
      "source": [
        "wn.synset('dollar.n.01').hyponyms()"
      ],
      "metadata": {
        "colab": {
          "base_uri": "https://localhost:8080/"
        },
        "id": "em0oPfC-JoVD",
        "outputId": "b4d7461a-bc32-4cf5-c93a-817a759326ed"
      },
      "execution_count": null,
      "outputs": [
        {
          "output_type": "execute_result",
          "data": {
            "text/plain": [
              "[Synset('australian_dollar.n.01'),\n",
              " Synset('bahamian_dollar.n.01'),\n",
              " Synset('barbados_dollar.n.01'),\n",
              " Synset('belize_dollar.n.01'),\n",
              " Synset('bermuda_dollar.n.01'),\n",
              " Synset('brunei_dollar.n.01'),\n",
              " Synset('canadian_dollar.n.01'),\n",
              " Synset('cayman_islands_dollar.n.01'),\n",
              " Synset('dominican_dollar.n.01'),\n",
              " Synset('fiji_dollar.n.01'),\n",
              " Synset('grenada_dollar.n.01'),\n",
              " Synset('guyana_dollar.n.01'),\n",
              " Synset('hong_kong_dollar.n.01'),\n",
              " Synset('jamaican_dollar.n.01'),\n",
              " Synset('kiribati_dollar.n.01'),\n",
              " Synset('liberian_dollar.n.01'),\n",
              " Synset('new_zealand_dollar.n.01'),\n",
              " Synset('singapore_dollar.n.01'),\n",
              " Synset('taiwan_dollar.n.01'),\n",
              " Synset('trinidad_and_tobago_dollar.n.01'),\n",
              " Synset('tuvalu_dollar.n.01'),\n",
              " Synset('united_states_dollar.n.01'),\n",
              " Synset('zimbabwean_dollar.n.01')]"
            ]
          },
          "metadata": {},
          "execution_count": 10
        }
      ]
    },
    {
      "cell_type": "code",
      "source": [
        "len(wn.synset('dollar.n.01').hyponyms())"
      ],
      "metadata": {
        "colab": {
          "base_uri": "https://localhost:8080/"
        },
        "id": "KDbT4FeNJdX2",
        "outputId": "d0b6444f-3af3-4fc7-dc0a-88cd0604930d"
      },
      "execution_count": null,
      "outputs": [
        {
          "output_type": "execute_result",
          "data": {
            "text/plain": [
              "23"
            ]
          },
          "metadata": {},
          "execution_count": 11
        }
      ]
    },
    {
      "cell_type": "code",
      "source": [],
      "metadata": {
        "id": "s8ZQycpMJVj4"
      },
      "execution_count": null,
      "outputs": []
    }
  ],
  "metadata": {
    "colab": {
      "provenance": []
    },
    "kernelspec": {
      "display_name": "Python 3",
      "language": "python",
      "name": "python3"
    },
    "language_info": {
      "codemirror_mode": {
        "name": "ipython",
        "version": 3
      },
      "file_extension": ".py",
      "mimetype": "text/x-python",
      "name": "python",
      "nbconvert_exporter": "python",
      "pygments_lexer": "ipython3",
      "version": "3.7.6"
    }
  },
  "nbformat": 4,
  "nbformat_minor": 0
}